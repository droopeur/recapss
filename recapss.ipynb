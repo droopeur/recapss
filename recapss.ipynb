{
 "cells": [
  {
   "cell_type": "markdown",
   "metadata": {},
   "source": [
    "<h1>Recapss: The willingness of the entrepreneurs to open their capital to external investors.</h1>\n",
    "\n",
    "<h5>Quels sont les facteurs d’influence psychologique et économique favorisant la cession de participations d’une entreprise, ou en d’autres termes la dilution partielle ou totale de ses « equities » ?</h5>\n",
    "\n"
   ]
  },
  {
   "cell_type": "markdown",
   "metadata": {},
   "source": [
    "<h2>Etude et analyse des resultats du questionnaire administre aux entrepreneurs</h2>\n",
    "<p>Nous allons, dans ce notebook, etudier les resultats de questionnaire administre aux entrepreneurs. Nous commencerons par traiter les donnees, puis nous analyserons en details ces dernieres</p>"
   ]
  },
  {
   "cell_type": "code",
   "execution_count": 158,
   "metadata": {},
   "outputs": [
    {
     "data": {
      "text/html": [
       "<script>\n",
       "code_show_err=false; \n",
       "function code_toggle_err() {\n",
       " if (code_show_err){\n",
       " $('div.output_stderr').hide();\n",
       " } else {\n",
       " $('div.output_stderr').show();\n",
       " }\n",
       " code_show_err = !code_show_err\n",
       "} \n",
       "$( document ).ready(code_toggle_err);\n",
       "</script>\n",
       "To toggle on/off output_stderr, click <a href=\"javascript:code_toggle_err()\">here</a>."
      ],
      "text/plain": [
       "<IPython.core.display.HTML object>"
      ]
     },
     "execution_count": 158,
     "metadata": {},
     "output_type": "execute_result"
    }
   ],
   "source": [
    "#!/usr/bin/env python\n",
    "# -*- coding: utf-8 -*-\n",
    "import pandas as pd\n",
    "import seaborn as sns\n",
    "import matplotlib.pyplot as plt\n",
    "from IPython.display import HTML\n",
    "HTML('''<script>\n",
    "code_show_err=false; \n",
    "function code_toggle_err() {\n",
    " if (code_show_err){\n",
    " $('div.output_stderr').hide();\n",
    " } else {\n",
    " $('div.output_stderr').show();\n",
    " }\n",
    " code_show_err = !code_show_err\n",
    "} \n",
    "$( document ).ready(code_toggle_err);\n",
    "</script>\n",
    "To toggle on/off python errors or warning, click <a href=\"javascript:code_toggle_err()\">here</a>.''')"
   ]
  },
  {
   "cell_type": "markdown",
   "metadata": {},
   "source": [
    "<h3>Partie 1: Preprocessing</h3>\n",
    "<p>On va traiter les donnees brut du questionnaire google afin de pouvoir les analyser en detail</p>"
   ]
  },
  {
   "cell_type": "code",
   "execution_count": 235,
   "metadata": {},
   "outputs": [
    {
     "data": {
      "text/html": [
       "<div>\n",
       "<style scoped>\n",
       "    .dataframe tbody tr th:only-of-type {\n",
       "        vertical-align: middle;\n",
       "    }\n",
       "\n",
       "    .dataframe tbody tr th {\n",
       "        vertical-align: top;\n",
       "    }\n",
       "\n",
       "    .dataframe thead th {\n",
       "        text-align: right;\n",
       "    }\n",
       "</style>\n",
       "<table border=\"1\" class=\"dataframe\">\n",
       "  <thead>\n",
       "    <tr style=\"text-align: right;\">\n",
       "      <th></th>\n",
       "      <th>Horodateur</th>\n",
       "      <th>Sexe</th>\n",
       "      <th>Age</th>\n",
       "      <th>Indiquez votre niveau d'étude</th>\n",
       "      <th>Domaine d'étude</th>\n",
       "      <th>finance_link</th>\n",
       "      <th>Année de création</th>\n",
       "      <th>Domaines</th>\n",
       "      <th>Nombre d'employés</th>\n",
       "      <th>Localisation (entrez votre département)</th>\n",
       "      <th>Avez vous ouvert votre capital ?</th>\n",
       "      <th>Si non, prévoyez-vous de l'ouvrir ?</th>\n",
       "      <th>Pour quelle raisons avez vous (ou n'avez vous pas) ouvert votre capital</th>\n",
       "      <th>Sur une échelle de 0 à 5, l'entrée des investisseur vous a t-elle apporte les effets escomptes ?</th>\n",
       "      <th>Comment qualifierez vous vos investisseurs ?</th>\n",
       "      <th>Nombre d'années après la création de l’entreprise ?</th>\n",
       "      <th>Est-ce votre première ouverture ?</th>\n",
       "    </tr>\n",
       "  </thead>\n",
       "  <tbody>\n",
       "    <tr>\n",
       "      <th>0</th>\n",
       "      <td>20/11/2018 00:35:11</td>\n",
       "      <td>Femme</td>\n",
       "      <td>29</td>\n",
       "      <td>Bac +5 ou plus</td>\n",
       "      <td>Science sociales/ Éco-gestion</td>\n",
       "      <td>Je suis issu ou travaille dans la finance</td>\n",
       "      <td>2017</td>\n",
       "      <td>Commerce / Négoce / Distribution</td>\n",
       "      <td>0</td>\n",
       "      <td>75</td>\n",
       "      <td>Oui</td>\n",
       "      <td>NaN</td>\n",
       "      <td>Besoin de fonds pour prototypage</td>\n",
       "      <td>5.0</td>\n",
       "      <td>Business Angels</td>\n",
       "      <td>1,5</td>\n",
       "      <td>Oui</td>\n",
       "    </tr>\n",
       "    <tr>\n",
       "      <th>1</th>\n",
       "      <td>20/11/2018 05:24:54</td>\n",
       "      <td>Homme</td>\n",
       "      <td>30</td>\n",
       "      <td>Bac +5 ou plus</td>\n",
       "      <td>Ingénierie/ Science</td>\n",
       "      <td>Aucune connaissance</td>\n",
       "      <td>2015</td>\n",
       "      <td>Services aux entreprises</td>\n",
       "      <td>7</td>\n",
       "      <td>75</td>\n",
       "      <td>Oui</td>\n",
       "      <td>Oui</td>\n",
       "      <td>Besoin de fonds pour prototypage</td>\n",
       "      <td>10.0</td>\n",
       "      <td>Business Angels</td>\n",
       "      <td>2</td>\n",
       "      <td>Oui</td>\n",
       "    </tr>\n",
       "    <tr>\n",
       "      <th>2</th>\n",
       "      <td>20/11/2018 06:54:24</td>\n",
       "      <td>Homme</td>\n",
       "      <td>41</td>\n",
       "      <td>Bac +5 ou plus</td>\n",
       "      <td>Ingénierie/ Science</td>\n",
       "      <td>J'ai acquis des connaissances personnelles au ...</td>\n",
       "      <td>2005</td>\n",
       "      <td>Machines et équipements / Automobile</td>\n",
       "      <td>20</td>\n",
       "      <td>47</td>\n",
       "      <td>Oui</td>\n",
       "      <td>Non</td>\n",
       "      <td>Besoin de fond pour croître, Besoin de fonds p...</td>\n",
       "      <td>5.0</td>\n",
       "      <td>Business Angels</td>\n",
       "      <td>4</td>\n",
       "      <td>Oui</td>\n",
       "    </tr>\n",
       "    <tr>\n",
       "      <th>3</th>\n",
       "      <td>20/11/2018 06:54:25</td>\n",
       "      <td>Femme</td>\n",
       "      <td>36</td>\n",
       "      <td>Bac +5 ou plus</td>\n",
       "      <td>Science sociales/ Éco-gestion</td>\n",
       "      <td>Proches (amis ou famille) travaillant dans ce ...</td>\n",
       "      <td>2017</td>\n",
       "      <td>Services aux entreprises</td>\n",
       "      <td>2</td>\n",
       "      <td>75</td>\n",
       "      <td>Oui</td>\n",
       "      <td>NaN</td>\n",
       "      <td>Besoin de fonds pour prototypage</td>\n",
       "      <td>8.0</td>\n",
       "      <td>Business Angels</td>\n",
       "      <td>1</td>\n",
       "      <td>Oui</td>\n",
       "    </tr>\n",
       "    <tr>\n",
       "      <th>4</th>\n",
       "      <td>20/11/2018 09:38:42</td>\n",
       "      <td>Homme</td>\n",
       "      <td>48</td>\n",
       "      <td>Bac +5 ou plus</td>\n",
       "      <td>Science sociales/ Éco-gestion</td>\n",
       "      <td>Je suis issu ou travaille dans la finance</td>\n",
       "      <td>2015</td>\n",
       "      <td>Études et conseils</td>\n",
       "      <td>8</td>\n",
       "      <td>75</td>\n",
       "      <td>Non</td>\n",
       "      <td>Oui</td>\n",
       "      <td>Pas de nécessité pour l’entreprise</td>\n",
       "      <td>NaN</td>\n",
       "      <td>NaN</td>\n",
       "      <td>NaN</td>\n",
       "      <td>NaN</td>\n",
       "    </tr>\n",
       "    <tr>\n",
       "      <th>5</th>\n",
       "      <td>20/11/2018 10:04:51</td>\n",
       "      <td>Homme</td>\n",
       "      <td>47</td>\n",
       "      <td>Bac +5 ou plus</td>\n",
       "      <td>Ingénierie/ Science</td>\n",
       "      <td>J'ai acquis des connaissances personnelles au ...</td>\n",
       "      <td>2016</td>\n",
       "      <td>Informatique / Télécoms</td>\n",
       "      <td>3</td>\n",
       "      <td>94</td>\n",
       "      <td>Non</td>\n",
       "      <td>Oui</td>\n",
       "      <td>Pas de nécessité pour l’entreprise</td>\n",
       "      <td>NaN</td>\n",
       "      <td>NaN</td>\n",
       "      <td>NaN</td>\n",
       "      <td>NaN</td>\n",
       "    </tr>\n",
       "    <tr>\n",
       "      <th>6</th>\n",
       "      <td>20/11/2018 11:39:09</td>\n",
       "      <td>Homme</td>\n",
       "      <td>51</td>\n",
       "      <td>Bac +5 ou plus</td>\n",
       "      <td>Science sociales/ Éco-gestion</td>\n",
       "      <td>J'ai acquis des connaissances personnelles au ...</td>\n",
       "      <td>2016</td>\n",
       "      <td>Services aux entreprises</td>\n",
       "      <td>3</td>\n",
       "      <td>75</td>\n",
       "      <td>Non</td>\n",
       "      <td>Oui</td>\n",
       "      <td>Besoin de fond pour croître</td>\n",
       "      <td>NaN</td>\n",
       "      <td>NaN</td>\n",
       "      <td>NaN</td>\n",
       "      <td>NaN</td>\n",
       "    </tr>\n",
       "    <tr>\n",
       "      <th>7</th>\n",
       "      <td>20/11/2018 16:09:21</td>\n",
       "      <td>Homme</td>\n",
       "      <td>21</td>\n",
       "      <td>Post Bac</td>\n",
       "      <td>Droit ou sciences politiques</td>\n",
       "      <td>J'ai acquis des connaissances personnelles au ...</td>\n",
       "      <td>2017</td>\n",
       "      <td>Édition / Communication / Multimédia</td>\n",
       "      <td>15</td>\n",
       "      <td>75</td>\n",
       "      <td>Non</td>\n",
       "      <td>Oui</td>\n",
       "      <td>Besoin de fond pour croître, Besoin de fonds p...</td>\n",
       "      <td>NaN</td>\n",
       "      <td>NaN</td>\n",
       "      <td>NaN</td>\n",
       "      <td>NaN</td>\n",
       "    </tr>\n",
       "    <tr>\n",
       "      <th>8</th>\n",
       "      <td>21/11/2018 08:36:11</td>\n",
       "      <td>Homme</td>\n",
       "      <td>55</td>\n",
       "      <td>Bac +3</td>\n",
       "      <td>Science sociales/ Éco-gestion</td>\n",
       "      <td>J'ai acquis des connaissances personnelles au ...</td>\n",
       "      <td>2013</td>\n",
       "      <td>Électronique / Électricité</td>\n",
       "      <td>6</td>\n",
       "      <td>75</td>\n",
       "      <td>Oui</td>\n",
       "      <td>NaN</td>\n",
       "      <td>Besoin de fond pour croître</td>\n",
       "      <td>3.0</td>\n",
       "      <td>Business Angels</td>\n",
       "      <td>3</td>\n",
       "      <td>Oui</td>\n",
       "    </tr>\n",
       "    <tr>\n",
       "      <th>9</th>\n",
       "      <td>28/11/2018 15:47:49</td>\n",
       "      <td>Femme</td>\n",
       "      <td>24</td>\n",
       "      <td>Bac +5 ou plus</td>\n",
       "      <td>Science sociales/ Éco-gestion</td>\n",
       "      <td>J'ai acquis des connaissances personnelles au ...</td>\n",
       "      <td>2016</td>\n",
       "      <td>Services aux entreprises</td>\n",
       "      <td>3</td>\n",
       "      <td>75</td>\n",
       "      <td>Oui</td>\n",
       "      <td>Oui</td>\n",
       "      <td>Besoin de fond pour croître, Besoin de fonds p...</td>\n",
       "      <td>6.0</td>\n",
       "      <td>Business Angels</td>\n",
       "      <td>2</td>\n",
       "      <td>Oui</td>\n",
       "    </tr>\n",
       "  </tbody>\n",
       "</table>\n",
       "</div>"
      ],
      "text/plain": [
       "            Horodateur   Sexe  Age Indiquez votre niveau d'étude  \\\n",
       "0  20/11/2018 00:35:11  Femme   29                Bac +5 ou plus   \n",
       "1  20/11/2018 05:24:54  Homme   30                Bac +5 ou plus   \n",
       "2  20/11/2018 06:54:24  Homme   41                Bac +5 ou plus   \n",
       "3  20/11/2018 06:54:25  Femme   36                Bac +5 ou plus   \n",
       "4  20/11/2018 09:38:42  Homme   48                Bac +5 ou plus   \n",
       "5  20/11/2018 10:04:51  Homme   47                Bac +5 ou plus   \n",
       "6  20/11/2018 11:39:09  Homme   51                Bac +5 ou plus   \n",
       "7  20/11/2018 16:09:21  Homme   21                      Post Bac   \n",
       "8  21/11/2018 08:36:11  Homme   55                        Bac +3   \n",
       "9  28/11/2018 15:47:49  Femme   24                Bac +5 ou plus   \n",
       "\n",
       "                 Domaine d'étude  \\\n",
       "0  Science sociales/ Éco-gestion   \n",
       "1            Ingénierie/ Science   \n",
       "2            Ingénierie/ Science   \n",
       "3  Science sociales/ Éco-gestion   \n",
       "4  Science sociales/ Éco-gestion   \n",
       "5            Ingénierie/ Science   \n",
       "6  Science sociales/ Éco-gestion   \n",
       "7   Droit ou sciences politiques   \n",
       "8  Science sociales/ Éco-gestion   \n",
       "9  Science sociales/ Éco-gestion   \n",
       "\n",
       "                                        finance_link  Année de création  \\\n",
       "0          Je suis issu ou travaille dans la finance               2017   \n",
       "1                                Aucune connaissance               2015   \n",
       "2  J'ai acquis des connaissances personnelles au ...               2005   \n",
       "3  Proches (amis ou famille) travaillant dans ce ...               2017   \n",
       "4          Je suis issu ou travaille dans la finance               2015   \n",
       "5  J'ai acquis des connaissances personnelles au ...               2016   \n",
       "6  J'ai acquis des connaissances personnelles au ...               2016   \n",
       "7  J'ai acquis des connaissances personnelles au ...               2017   \n",
       "8  J'ai acquis des connaissances personnelles au ...               2013   \n",
       "9  J'ai acquis des connaissances personnelles au ...               2016   \n",
       "\n",
       "                               Domaines  Nombre d'employés   \\\n",
       "0      Commerce / Négoce / Distribution                   0   \n",
       "1              Services aux entreprises                   7   \n",
       "2  Machines et équipements / Automobile                  20   \n",
       "3              Services aux entreprises                   2   \n",
       "4                    Études et conseils                   8   \n",
       "5               Informatique / Télécoms                   3   \n",
       "6              Services aux entreprises                   3   \n",
       "7  Édition / Communication / Multimédia                  15   \n",
       "8            Électronique / Électricité                   6   \n",
       "9              Services aux entreprises                   3   \n",
       "\n",
       "   Localisation (entrez votre département)  Avez vous ouvert votre capital ?  \\\n",
       "0                                        75                              Oui   \n",
       "1                                        75                              Oui   \n",
       "2                                        47                              Oui   \n",
       "3                                        75                              Oui   \n",
       "4                                        75                              Non   \n",
       "5                                        94                              Non   \n",
       "6                                        75                              Non   \n",
       "7                                        75                              Non   \n",
       "8                                        75                              Oui   \n",
       "9                                        75                              Oui   \n",
       "\n",
       "  Si non, prévoyez-vous de l'ouvrir ?   \\\n",
       "0                                  NaN   \n",
       "1                                  Oui   \n",
       "2                                  Non   \n",
       "3                                  NaN   \n",
       "4                                  Oui   \n",
       "5                                  Oui   \n",
       "6                                  Oui   \n",
       "7                                  Oui   \n",
       "8                                  NaN   \n",
       "9                                  Oui   \n",
       "\n",
       "  Pour quelle raisons avez vous (ou n'avez vous pas) ouvert votre capital  \\\n",
       "0                   Besoin de fonds pour prototypage                        \n",
       "1                   Besoin de fonds pour prototypage                        \n",
       "2  Besoin de fond pour croître, Besoin de fonds p...                        \n",
       "3                   Besoin de fonds pour prototypage                        \n",
       "4                 Pas de nécessité pour l’entreprise                        \n",
       "5                 Pas de nécessité pour l’entreprise                        \n",
       "6                        Besoin de fond pour croître                        \n",
       "7  Besoin de fond pour croître, Besoin de fonds p...                        \n",
       "8                        Besoin de fond pour croître                        \n",
       "9  Besoin de fond pour croître, Besoin de fonds p...                        \n",
       "\n",
       "   Sur une échelle de 0 à 5, l'entrée des investisseur vous a t-elle apporte les effets escomptes ?  \\\n",
       "0                                                5.0                                                  \n",
       "1                                               10.0                                                  \n",
       "2                                                5.0                                                  \n",
       "3                                                8.0                                                  \n",
       "4                                                NaN                                                  \n",
       "5                                                NaN                                                  \n",
       "6                                                NaN                                                  \n",
       "7                                                NaN                                                  \n",
       "8                                                3.0                                                  \n",
       "9                                                6.0                                                  \n",
       "\n",
       "  Comment qualifierez vous vos investisseurs ?  \\\n",
       "0                              Business Angels   \n",
       "1                              Business Angels   \n",
       "2                              Business Angels   \n",
       "3                              Business Angels   \n",
       "4                                          NaN   \n",
       "5                                          NaN   \n",
       "6                                          NaN   \n",
       "7                                          NaN   \n",
       "8                              Business Angels   \n",
       "9                              Business Angels   \n",
       "\n",
       "  Nombre d'années après la création de l’entreprise ?  \\\n",
       "0                                                1,5    \n",
       "1                                                  2    \n",
       "2                                                  4    \n",
       "3                                                  1    \n",
       "4                                                NaN    \n",
       "5                                                NaN    \n",
       "6                                                NaN    \n",
       "7                                                NaN    \n",
       "8                                                  3    \n",
       "9                                                  2    \n",
       "\n",
       "  Est-ce votre première ouverture ?  \n",
       "0                               Oui  \n",
       "1                               Oui  \n",
       "2                               Oui  \n",
       "3                               Oui  \n",
       "4                               NaN  \n",
       "5                               NaN  \n",
       "6                               NaN  \n",
       "7                               NaN  \n",
       "8                               Oui  \n",
       "9                               Oui  "
      ]
     },
     "execution_count": 235,
     "metadata": {},
     "output_type": "execute_result"
    }
   ],
   "source": [
    "global data\n",
    "data = pd.read_csv(\"assets/answers.csv\"); #import the result table\n",
    "data[:10]"
   ]
  },
  {
   "cell_type": "markdown",
   "metadata": {},
   "source": [
    "<p> Le premier constat que l'on peut faire ici concerne la premiere colone, elle n'est pas utilse dans le cadre de notre etude.</p>"
   ]
  },
  {
   "cell_type": "code",
   "execution_count": 236,
   "metadata": {},
   "outputs": [
    {
     "data": {
      "text/plain": [
       "array(['Sexe', 'Age', \"Indiquez votre niveau d'étude\", \"Domaine d'étude\",\n",
       "       'finance_link', 'Année de création', 'Domaines',\n",
       "       \"Nombre d'employés \", 'Localisation (entrez votre département) ',\n",
       "       'Avez vous ouvert votre capital ?',\n",
       "       \"Si non, prévoyez-vous de l'ouvrir ? \",\n",
       "       \"Pour quelle raisons avez vous (ou n'avez vous pas) ouvert votre capital\",\n",
       "       \"Sur une échelle de 0 à 5, l'entrée des investisseur vous a t-elle apporte les effets escomptes ?\",\n",
       "       'Comment qualifierez vous vos investisseurs ?',\n",
       "       \"Nombre d'années après la création de l’entreprise ?\",\n",
       "       'Est-ce votre première ouverture ?'], dtype=object)"
      ]
     },
     "execution_count": 236,
     "metadata": {},
     "output_type": "execute_result"
    }
   ],
   "source": [
    "data = data.drop(\"Horodateur\", axis = 1)\n",
    "data.columns.values"
   ]
  },
  {
   "cell_type": "markdown",
   "metadata": {},
   "source": [
    "<p>Avant de proceder a une analyse plus precise de nos donnees voyons quels nombre differents d'entree nous avons pour chaque colonne.</p>"
   ]
  },
  {
   "cell_type": "code",
   "execution_count": 237,
   "metadata": {
    "scrolled": false
   },
   "outputs": [
    {
     "name": "stdout",
     "output_type": "stream",
     "text": [
      "Sexe                                                                                                 2\n",
      "Age                                                                                                 13\n",
      "Indiquez votre niveau d'étude                                                                        3\n",
      "Domaine d'étude                                                                                      4\n",
      "finance_link                                                                                         5\n",
      "Année de création                                                                                    5\n",
      "Domaines                                                                                             8\n",
      "Nombre d'employés                                                                                   10\n",
      "Localisation (entrez votre département)                                                              5\n",
      "Avez vous ouvert votre capital ?                                                                     2\n",
      "Si non, prévoyez-vous de l'ouvrir ?                                                                  2\n",
      "Pour quelle raisons avez vous (ou n'avez vous pas) ouvert votre capital                              4\n",
      "Sur une échelle de 0 à 5, l'entrée des investisseur vous a t-elle apporte les effets escomptes ?     6\n",
      "Comment qualifierez vous vos investisseurs ?                                                         1\n",
      "Nombre d'années après la création de l’entreprise ?                                                  6\n",
      "Est-ce votre première ouverture ?                                                                    1\n",
      "dtype: int64\n"
     ]
    }
   ],
   "source": [
    "\n",
    "print(data.nunique())"
   ]
  },
  {
   "cell_type": "markdown",
   "metadata": {},
   "source": [
    "<p>Le premier constat que l'on peu tirer, c'est que les colones \"Comment qualifierez vous vos investisseurs ?\" et \"Est-ce votre première ouverture ?\" ne vont pas pouvoir etre utilisees dans notre analyse puisqu'elle ne permet de distinguer en quoi que ce soit les entrepreneurs ayant remplis notre questionnaire. Nous la supprimerons donc.</p>\n",
    "<p>Ensuite, nous pouvons nous interesser aux colonnes contenant seulements 2 reponses differentes.</p>"
   ]
  },
  {
   "cell_type": "code",
   "execution_count": 261,
   "metadata": {},
   "outputs": [
    {
     "name": "stdout",
     "output_type": "stream",
     "text": [
      "Sexe:  ['Femme' 'Homme']\n",
      "Avez vous ouvert votre capital ? : ['Oui' 'Non']\n",
      "Si non, prévoyez-vous de l'ouvrir ? : [nan 'Oui' 'Non']\n"
     ]
    }
   ],
   "source": [
    "#data = data.drop('Comment qualifierez vous vos investisseurs ? ',axis=1)\n",
    "\n",
    "print('Sexe: ', data.Sexe.unique())\n",
    "print('Avez vous ouvert votre capital ? :', data['Avez vous ouvert votre capital ?'].unique())\n",
    "print(\"Si non, prévoyez-vous de l'ouvrir ? :\", data[\"Si non, prévoyez-vous de l'ouvrir ? \"].unique())"
   ]
  },
  {
   "cell_type": "code",
   "execution_count": 265,
   "metadata": {},
   "outputs": [],
   "source": [
    "nominal_columns = [\"Sexe\", \"Avez vous ouvert votre capital ?\", \"Si non, prévoyez-vous de l'ouvrir ? \"]\n",
    "filtered_data = data\n",
    "dummy_df = pd.get_dummies(data[nominal_columns])\n",
    "filtered_data = pd.concat([filtered_data, dummy_df], axis=1)\n",
    "filtered_data = filtered_data.drop(nominal_columns, axis=1)"
   ]
  },
  {
   "cell_type": "markdown",
   "metadata": {},
   "source": [
    "<p>On constate ici que beaucoup de colones vont devoir recevoir un traitement, puisque celles ci ne sont pas des nombres (les types 'object'). Pour nos calculs, nous avons besoin de nombres (int64, entiers ou float64, decimaux)</p>\n",
    "<p>Pour le traitement de celles ci, plusieurs methodes s'offrent a nous afin de proceder au traitement de celles-ci. Nous en utiliserons 2 principales ici</p>\n",
    "<p>Tout d'abord, comprenons les deux types que nous avons dans notre ensemble de données et comment nous pouvons les convertir en donnees numériques :\n",
    "\n",
    "<ul><li><b>Valeurs ordinales :</b> ces valeurs sont dans l'ordre naturel. C'est-à-dire que vous pouvez les trier ou les commander par ordre croissant ou décroissant.</li>\n",
    "\n",
    "<li><b>Valeurs nominales :</b> ce sont des valeurs régulières. On ne peux pas ordonner les valeurs nominales.</li>\n",
    "<li><b>Valeurs booleenes :</b> ces valeurs n'ont en fait que 2 valeurs, vrai ou faux. C'est un sous ensemble des valeurs nominales, a ceci pret que si nous creeons une nouvelle colone pour chaque valeur differente dans notre colone a traiter, nous n'auront besoin que d'une seule colonne pour les valeurs booleenes.</li>\n",
    "</ul>\n",
    "</p>\n",
    "\n",
    "<p>Voici les colonnes que nous avons maintenant dans notre ensemble de données :\n",
    "<ul>\n",
    "    <li>Valeurs ordinales</li>\n",
    "<li>finance_link: le lien des entrepreneurs avec la finance</li>\n",
    "<li>le niveau d'etude</li>\n",
    "<li>Domaine d'études</li>\n",
    "<li>Domaines</li>\n",
    "<li>Pour quelle raisons avez vous (ou n'avez vous pas) ouvert votre capital</li>\n",
    "<li>finalité</li>\n",
    "<li>terme</li>\n",
    "    </ul>\n",
    "<p>Il existe différentes approches pour traiter chacun de ces deux types. Dans les étapes suivantes, nous allons convertir chacun d'entre eux en conséquence.</p>\n",
    "\n"
   ]
  },
  {
   "cell_type": "code",
   "execution_count": 266,
   "metadata": {},
   "outputs": [
    {
     "data": {
      "text/html": [
       "<div>\n",
       "<style scoped>\n",
       "    .dataframe tbody tr th:only-of-type {\n",
       "        vertical-align: middle;\n",
       "    }\n",
       "\n",
       "    .dataframe tbody tr th {\n",
       "        vertical-align: top;\n",
       "    }\n",
       "\n",
       "    .dataframe thead th {\n",
       "        text-align: right;\n",
       "    }\n",
       "</style>\n",
       "<table border=\"1\" class=\"dataframe\">\n",
       "  <thead>\n",
       "    <tr style=\"text-align: right;\">\n",
       "      <th></th>\n",
       "      <th>finance_link</th>\n",
       "      <th>Indiquez votre niveau d'étude</th>\n",
       "    </tr>\n",
       "  </thead>\n",
       "  <tbody>\n",
       "    <tr>\n",
       "      <th>0</th>\n",
       "      <td>4</td>\n",
       "      <td>3</td>\n",
       "    </tr>\n",
       "    <tr>\n",
       "      <th>1</th>\n",
       "      <td>0</td>\n",
       "      <td>3</td>\n",
       "    </tr>\n",
       "    <tr>\n",
       "      <th>2</th>\n",
       "      <td>1</td>\n",
       "      <td>3</td>\n",
       "    </tr>\n",
       "    <tr>\n",
       "      <th>3</th>\n",
       "      <td>2</td>\n",
       "      <td>3</td>\n",
       "    </tr>\n",
       "    <tr>\n",
       "      <th>4</th>\n",
       "      <td>4</td>\n",
       "      <td>3</td>\n",
       "    </tr>\n",
       "  </tbody>\n",
       "</table>\n",
       "</div>"
      ],
      "text/plain": [
       "   finance_link  Indiquez votre niveau d'étude\n",
       "0             4                              3\n",
       "1             0                              3\n",
       "2             1                              3\n",
       "3             2                              3\n",
       "4             4                              3"
      ]
     },
     "execution_count": 266,
     "metadata": {},
     "output_type": "execute_result"
    }
   ],
   "source": [
    "mapping_dict = {\n",
    "    \"finance_link\": {\n",
    "        \"Aucune connaissance\": 0,\n",
    "        \"J'ai acquis des connaissances personnelles au cours du temps\": 1,\n",
    "        \"Proches (amis ou famille) travaillant dans ce secteur\": 2,\n",
    "        \"Conseillers privés\": 3,\n",
    "        \"Je suis issu ou travaille dans la finance\": 4,\n",
    "    },\n",
    "    \"Indiquez votre niveau d'étude\":{\n",
    "        \"Post Bac\": 0,\n",
    "        \"Bac\": 1,\n",
    "        \"Bac +3\": 2,\n",
    "        \"Bac +5 ou plus\": 3\n",
    "    }\n",
    "}\n",
    "filtered_data = filtered_data.replace(mapping_dict)\n",
    "filtered_data[['finance_link','Indiquez votre niveau d\\'étude']].head()\n"
   ]
  },
  {
   "cell_type": "markdown",
   "metadata": {},
   "source": [
    "<p>On à ici réarangé nos 2 colonnes, en introduisant une hierarchie dans les réponses, comme précisé dans les dictionnaires de mappage </p>"
   ]
  },
  {
   "cell_type": "markdown",
   "metadata": {},
   "source": [
    "<p>Il est plus complexe de convertir les valeurs nominales en nombre. Notons qu’ici, nous n'aurons pas à effectuer de calculs sur toute notre plage de données, comme cela aurait pu être le cas si nous voulions appliquer des algorithmes de machine learning sur nos données. Cela signifie qu’il n’est pas forcément utile de dissocier ces données afin d’obtenir un tableau ne contenant que des chiffres. Nous laisserons donc ces colonnes en l'état.\n",
    "</p>"
   ]
  },
  {
   "cell_type": "code",
   "execution_count": 267,
   "metadata": {},
   "outputs": [
    {
     "data": {
      "text/html": [
       "<div>\n",
       "<style scoped>\n",
       "    .dataframe tbody tr th:only-of-type {\n",
       "        vertical-align: middle;\n",
       "    }\n",
       "\n",
       "    .dataframe tbody tr th {\n",
       "        vertical-align: top;\n",
       "    }\n",
       "\n",
       "    .dataframe thead th {\n",
       "        text-align: right;\n",
       "    }\n",
       "</style>\n",
       "<table border=\"1\" class=\"dataframe\">\n",
       "  <thead>\n",
       "    <tr style=\"text-align: right;\">\n",
       "      <th></th>\n",
       "      <th>age</th>\n",
       "      <th>study_level</th>\n",
       "      <th>study_domain</th>\n",
       "      <th>finance_link</th>\n",
       "      <th>age_comp</th>\n",
       "      <th>domain</th>\n",
       "      <th>employee_number</th>\n",
       "      <th>location</th>\n",
       "      <th>capital_reason</th>\n",
       "      <th>investor_contribution</th>\n",
       "      <th>opening_capital_time</th>\n",
       "      <th>man</th>\n",
       "      <th>willing_open_capital</th>\n",
       "    </tr>\n",
       "  </thead>\n",
       "  <tbody>\n",
       "    <tr>\n",
       "      <th>0</th>\n",
       "      <td>29</td>\n",
       "      <td>3</td>\n",
       "      <td>Science sociales/ Éco-gestion</td>\n",
       "      <td>4</td>\n",
       "      <td>2017</td>\n",
       "      <td>Commerce / Négoce / Distribution</td>\n",
       "      <td>0</td>\n",
       "      <td>75</td>\n",
       "      <td>Besoin de fonds pour prototypage</td>\n",
       "      <td>5.0</td>\n",
       "      <td>1,5</td>\n",
       "      <td>0</td>\n",
       "      <td>1</td>\n",
       "    </tr>\n",
       "    <tr>\n",
       "      <th>1</th>\n",
       "      <td>30</td>\n",
       "      <td>3</td>\n",
       "      <td>Ingénierie/ Science</td>\n",
       "      <td>0</td>\n",
       "      <td>2015</td>\n",
       "      <td>Services aux entreprises</td>\n",
       "      <td>7</td>\n",
       "      <td>75</td>\n",
       "      <td>Besoin de fonds pour prototypage</td>\n",
       "      <td>10.0</td>\n",
       "      <td>2</td>\n",
       "      <td>1</td>\n",
       "      <td>1</td>\n",
       "    </tr>\n",
       "    <tr>\n",
       "      <th>2</th>\n",
       "      <td>41</td>\n",
       "      <td>3</td>\n",
       "      <td>Ingénierie/ Science</td>\n",
       "      <td>1</td>\n",
       "      <td>2005</td>\n",
       "      <td>Machines et équipements / Automobile</td>\n",
       "      <td>20</td>\n",
       "      <td>47</td>\n",
       "      <td>Besoin de fond pour croître, Besoin de fonds p...</td>\n",
       "      <td>5.0</td>\n",
       "      <td>4</td>\n",
       "      <td>1</td>\n",
       "      <td>1</td>\n",
       "    </tr>\n",
       "    <tr>\n",
       "      <th>3</th>\n",
       "      <td>36</td>\n",
       "      <td>3</td>\n",
       "      <td>Science sociales/ Éco-gestion</td>\n",
       "      <td>2</td>\n",
       "      <td>2017</td>\n",
       "      <td>Services aux entreprises</td>\n",
       "      <td>2</td>\n",
       "      <td>75</td>\n",
       "      <td>Besoin de fonds pour prototypage</td>\n",
       "      <td>8.0</td>\n",
       "      <td>1</td>\n",
       "      <td>0</td>\n",
       "      <td>1</td>\n",
       "    </tr>\n",
       "    <tr>\n",
       "      <th>4</th>\n",
       "      <td>48</td>\n",
       "      <td>3</td>\n",
       "      <td>Science sociales/ Éco-gestion</td>\n",
       "      <td>4</td>\n",
       "      <td>2015</td>\n",
       "      <td>Études et conseils</td>\n",
       "      <td>8</td>\n",
       "      <td>75</td>\n",
       "      <td>Pas de nécessité pour l’entreprise</td>\n",
       "      <td>NaN</td>\n",
       "      <td>NaN</td>\n",
       "      <td>1</td>\n",
       "      <td>0</td>\n",
       "    </tr>\n",
       "    <tr>\n",
       "      <th>5</th>\n",
       "      <td>47</td>\n",
       "      <td>3</td>\n",
       "      <td>Ingénierie/ Science</td>\n",
       "      <td>1</td>\n",
       "      <td>2016</td>\n",
       "      <td>Informatique / Télécoms</td>\n",
       "      <td>3</td>\n",
       "      <td>94</td>\n",
       "      <td>Pas de nécessité pour l’entreprise</td>\n",
       "      <td>NaN</td>\n",
       "      <td>NaN</td>\n",
       "      <td>1</td>\n",
       "      <td>0</td>\n",
       "    </tr>\n",
       "    <tr>\n",
       "      <th>6</th>\n",
       "      <td>51</td>\n",
       "      <td>3</td>\n",
       "      <td>Science sociales/ Éco-gestion</td>\n",
       "      <td>1</td>\n",
       "      <td>2016</td>\n",
       "      <td>Services aux entreprises</td>\n",
       "      <td>3</td>\n",
       "      <td>75</td>\n",
       "      <td>Besoin de fond pour croître</td>\n",
       "      <td>NaN</td>\n",
       "      <td>NaN</td>\n",
       "      <td>1</td>\n",
       "      <td>0</td>\n",
       "    </tr>\n",
       "    <tr>\n",
       "      <th>7</th>\n",
       "      <td>21</td>\n",
       "      <td>0</td>\n",
       "      <td>Droit ou sciences politiques</td>\n",
       "      <td>1</td>\n",
       "      <td>2017</td>\n",
       "      <td>Édition / Communication / Multimédia</td>\n",
       "      <td>15</td>\n",
       "      <td>75</td>\n",
       "      <td>Besoin de fond pour croître, Besoin de fonds p...</td>\n",
       "      <td>NaN</td>\n",
       "      <td>NaN</td>\n",
       "      <td>1</td>\n",
       "      <td>0</td>\n",
       "    </tr>\n",
       "    <tr>\n",
       "      <th>8</th>\n",
       "      <td>55</td>\n",
       "      <td>2</td>\n",
       "      <td>Science sociales/ Éco-gestion</td>\n",
       "      <td>1</td>\n",
       "      <td>2013</td>\n",
       "      <td>Électronique / Électricité</td>\n",
       "      <td>6</td>\n",
       "      <td>75</td>\n",
       "      <td>Besoin de fond pour croître</td>\n",
       "      <td>3.0</td>\n",
       "      <td>3</td>\n",
       "      <td>1</td>\n",
       "      <td>1</td>\n",
       "    </tr>\n",
       "    <tr>\n",
       "      <th>9</th>\n",
       "      <td>24</td>\n",
       "      <td>3</td>\n",
       "      <td>Science sociales/ Éco-gestion</td>\n",
       "      <td>1</td>\n",
       "      <td>2016</td>\n",
       "      <td>Services aux entreprises</td>\n",
       "      <td>3</td>\n",
       "      <td>75</td>\n",
       "      <td>Besoin de fond pour croître, Besoin de fonds p...</td>\n",
       "      <td>6.0</td>\n",
       "      <td>2</td>\n",
       "      <td>0</td>\n",
       "      <td>1</td>\n",
       "    </tr>\n",
       "  </tbody>\n",
       "</table>\n",
       "</div>"
      ],
      "text/plain": [
       "   age  study_level                   study_domain  finance_link  age_comp  \\\n",
       "0   29            3  Science sociales/ Éco-gestion             4      2017   \n",
       "1   30            3            Ingénierie/ Science             0      2015   \n",
       "2   41            3            Ingénierie/ Science             1      2005   \n",
       "3   36            3  Science sociales/ Éco-gestion             2      2017   \n",
       "4   48            3  Science sociales/ Éco-gestion             4      2015   \n",
       "5   47            3            Ingénierie/ Science             1      2016   \n",
       "6   51            3  Science sociales/ Éco-gestion             1      2016   \n",
       "7   21            0   Droit ou sciences politiques             1      2017   \n",
       "8   55            2  Science sociales/ Éco-gestion             1      2013   \n",
       "9   24            3  Science sociales/ Éco-gestion             1      2016   \n",
       "\n",
       "                                 domain  employee_number  location  \\\n",
       "0      Commerce / Négoce / Distribution                0        75   \n",
       "1              Services aux entreprises                7        75   \n",
       "2  Machines et équipements / Automobile               20        47   \n",
       "3              Services aux entreprises                2        75   \n",
       "4                    Études et conseils                8        75   \n",
       "5               Informatique / Télécoms                3        94   \n",
       "6              Services aux entreprises                3        75   \n",
       "7  Édition / Communication / Multimédia               15        75   \n",
       "8            Électronique / Électricité                6        75   \n",
       "9              Services aux entreprises                3        75   \n",
       "\n",
       "                                      capital_reason  investor_contribution  \\\n",
       "0                   Besoin de fonds pour prototypage                    5.0   \n",
       "1                   Besoin de fonds pour prototypage                   10.0   \n",
       "2  Besoin de fond pour croître, Besoin de fonds p...                    5.0   \n",
       "3                   Besoin de fonds pour prototypage                    8.0   \n",
       "4                 Pas de nécessité pour l’entreprise                    NaN   \n",
       "5                 Pas de nécessité pour l’entreprise                    NaN   \n",
       "6                        Besoin de fond pour croître                    NaN   \n",
       "7  Besoin de fond pour croître, Besoin de fonds p...                    NaN   \n",
       "8                        Besoin de fond pour croître                    3.0   \n",
       "9  Besoin de fond pour croître, Besoin de fonds p...                    6.0   \n",
       "\n",
       "  opening_capital_time  man  willing_open_capital  \n",
       "0                  1,5    0                     1  \n",
       "1                    2    1                     1  \n",
       "2                    4    1                     1  \n",
       "3                    1    0                     1  \n",
       "4                  NaN    1                     0  \n",
       "5                  NaN    1                     0  \n",
       "6                  NaN    1                     0  \n",
       "7                  NaN    1                     0  \n",
       "8                    3    1                     1  \n",
       "9                    2    0                     1  "
      ]
     },
     "execution_count": 267,
     "metadata": {},
     "output_type": "execute_result"
    }
   ],
   "source": [
    "col = { 'Sexe_Homme': 'man',\n",
    "        'Age': 'age',\n",
    "        'Indiquez votre niveau d\\'étude': 'study_level',\n",
    "        'finance_link':'finance_link',\n",
    "        'Année de création': 'age_comp',\n",
    "        \"Domaine d'étude\": 'study_domain' ,\n",
    "        'Domaines': 'domain',\n",
    "        \"Nombre d'employés \": \"employee_number\" ,\n",
    "        'Localisation (entrez votre département) ': \"location\",\n",
    "        'Avez vous ouvert votre capital ?_Oui': 'willing_open_capital',\n",
    "        \"Pour quelle raisons avez vous (ou n'avez vous pas) ouvert votre capital\": \"capital_reason\",\n",
    "        \"Sur une échelle de 0 à 5, l'entrée des investisseur vous a t-elle apporte les effets escomptes ?\": \"investor_contribution\",\n",
    "        \"Nombre d'années après la création de l’entreprise ?\":\"opening_capital_time\"\n",
    "         }\n",
    "filtered_data = filtered_data.drop([\"Comment qualifierez vous vos investisseurs ?\",\"Est-ce votre première ouverture ?\",\"Sexe_Femme\",'Avez vous ouvert votre capital ?_Non',\"Si non, prévoyez-vous de l'ouvrir ? _Non\",\"Si non, prévoyez-vous de l'ouvrir ? _Oui\"], axis=1)\n",
    "filtered_data.rename(columns=col, inplace=True)\n",
    "filtered_data[:10]"
   ]
  },
  {
   "cell_type": "markdown",
   "metadata": {},
   "source": [
    "<p>Nos données étant maintenant traitées, nous allons pouvoir passer à l’analyse ce celles-ci.\n",
    "</p>\n",
    "<h3>Partie 2: Analyse</h3>\n",
    "<p>Etudions l'existence d'une relation lineaire entre la volonte d'ouvrir son capital et les autres entrees.</p>\n",
    "<p>Python nous permet de rapidement calculer le coefficient de correlation et de l’afficher sous forme de “heatmap”, qui nous permet de visualiser rapidement le lien sous forme de matrice colorée</p>\n"
   ]
  },
  {
   "cell_type": "code",
   "execution_count": 269,
   "metadata": {},
   "outputs": [
    {
     "data": {
      "text/plain": [
       "<matplotlib.axes._subplots.AxesSubplot at 0x11fa59320>"
      ]
     },
     "execution_count": 269,
     "metadata": {},
     "output_type": "execute_result"
    },
    {
     "data": {
      "image/png": "[encoded data removed]",
      "text/plain": [
       "<Figure size 432x288 with 2 Axes>"
      ]
     },
     "metadata": {
      "needs_background": "light"
     },
     "output_type": "display_data"
    }
   ],
   "source": [
    "columns_for_corr = ['man','age',\"study_level\",\"finance_link\",\"age_comp\",\"employee_number\",\"willing_open_capital\"]\n",
    "corr_matrix = filtered_data[columns_for_corr].apply(lambda x: (x-x.mean())/x.mean()).corr()\n",
    "corr_matrix = corr_matrix.apply(lambda x: abs(x))\n",
    "sns.heatmap(corr_matrix, annot=False)\n"
   ]
  },
  {
   "cell_type": "code",
   "execution_count": 211,
   "metadata": {},
   "outputs": [
    {
     "name": "stdout",
     "output_type": "stream",
     "text": [
      "Man who did not open their capital     35.714286\n",
      "Man who open their capital             28.571429\n",
      "Woman who opens their capital          28.571429\n",
      "Woman wo did not open theri capital     7.142857\n",
      "dtype: float64\n"
     ]
    },
    {
     "data": {
      "text/plain": [
       "([<matplotlib.patches.Wedge at 0x11f967e48>,\n",
       "  <matplotlib.patches.Wedge at 0x11f9723c8>,\n",
       "  <matplotlib.patches.Wedge at 0x11f972898>,\n",
       "  <matplotlib.patches.Wedge at 0x11f972d68>],\n",
       " [Text(0.47727208651780734, 0.9910657674599294, 'Man who did not open their capital'),\n",
       "  Text(-1.1, 1.3471114790620887e-16, 'Man who open their capital'),\n",
       "  Text(0.2447729126007754, -1.0724207295912054, 'Woman who opens their capital'),\n",
       "  Text(1.072420660839281, -0.24477321382259143, 'Woman wo did not open theri capital')])"
      ]
     },
     "execution_count": 211,
     "metadata": {},
     "output_type": "execute_result"
    },
    {
     "data": {
      "image/png": "[encoded data removed]",
      "text/plain": [
       "<Figure size 432x288 with 1 Axes>"
      ]
     },
     "metadata": {},
     "output_type": "display_data"
    }
   ],
   "source": [
    "\n",
    "sexe_matrix = filtered_data[['Sexe_Homme',\"Avez vous ouvert votre capital ?_Oui\"]].apply(lambda x: (x[\"Sexe_Homme\"], x[\"Avez vous ouvert votre capital ?_Oui\"]),axis=1).value_counts()\n",
    "sexe_matrix = sexe_matrix.apply(lambda x: (x*100)/sexe_matrix.sum())\n",
    "rows={(1,0): \"Man who did not open their capital\", (1,1): \"Man who open their capital\", (0,1):'Woman who opens their capital',(0,0):\"Woman wo did not open theri capital\"}\n",
    "sexe_matrix = sexe_matrix.rename(rows, axis='index')\n",
    "print(sexe_matrix)\n",
    "plt.pie(sexe_matrix, labels=sexe_matrix.index)"
   ]
  },
  {
   "cell_type": "code",
   "execution_count": 69,
   "metadata": {},
   "outputs": [
    {
     "name": "stdout",
     "output_type": "stream",
     "text": [
      "Percentage of man who did not open their capital    55.555556\n",
      "Percentage of man who open their capital            44.444444\n",
      "dtype: float64\n"
     ]
    }
   ],
   "source": [
    "sexe_man_matrix = filtered_data[['man',\"willing_open_capital\"]]\n",
    "sexe_man_matrix = sexe_man_matrix[sexe_man_matrix.Sexe_Homme == 1].apply(lambda x:x[\"willing_open_capital\"],axis=1).value_counts()\n",
    "# \n",
    "sexe_man_matrix = sexe_man_matrix.apply(lambda x: (x*100)/sexe_man_matrix.sum())\n",
    "rows={1: \"Percentage of man who open their capital\", 0: \"Percentage of man who did not open their capital\"}\n",
    "sexe_man_matrix = sexe_man_matrix.rename(rows, axis='index')\n",
    "print(sexe_man_matrix)"
   ]
  },
  {
   "cell_type": "code",
   "execution_count": 278,
   "metadata": {},
   "outputs": [
    {
     "name": "stdout",
     "output_type": "stream",
     "text": [
      "Percentage of woman who open their capital            80.0\n",
      "Percentage of woman who did not open their capital    20.0\n",
      "dtype: float64\n"
     ]
    }
   ],
   "source": [
    "sexe_woman_matrix = filtered_data[['man',\"willing_open_capital\"]]\n",
    "sexe_woman_matrix = sexe_woman_matrix[sexe_woman_matrix.man == 0].apply(lambda x: x[\"willing_open_capital\"],axis=1).value_counts()\n",
    "sexe_woman_matrix = sexe_woman_matrix.apply(lambda x: (x*100)/sexe_woman_matrix.sum())\n",
    "rows={1: \"Percentage of woman who open their capital\", 0: \"Percentage of woman who did not open their capital\"}\n",
    "sexe_woman_matrix = sexe_woman_matrix.rename(rows, axis='index')\n",
    "print(sexe_woman_matrix)"
   ]
  },
  {
   "cell_type": "markdown",
   "metadata": {},
   "source": [
    "<div class=\"alert alert-success\"><b>Conclusion:</b> les femmes ouvrent plus leur capital que les hommes.</div>"
   ]
  },
  {
   "cell_type": "code",
   "execution_count": 280,
   "metadata": {},
   "outputs": [
    {
     "name": "stdout",
     "output_type": "stream",
     "text": [
      "Pourcentage d'hommes ayant la volonte d'ouvrir leur capital en fonction de leur connaissance du secteur financier\n",
      "0  : 100.0\n",
      "1  : 50.0\n",
      "2  : 0\n",
      "3  : 0\n",
      "4  : 0\n"
     ]
    }
   ],
   "source": [
    "finance_matrix = filtered_data[['finance_link',\"willing_open_capital\",'man']]\n",
    "\n",
    "print(\"Pourcentage d'hommes ayant la volonte d'ouvrir leur capital en fonction de leur connaissance du secteur financier\" )\n",
    "finance_matrix = finance_matrix[finance_matrix[\"man\"]==1]\n",
    "counter_matrix= finance_matrix.finance_link.value_counts()\n",
    "finance_matrix = finance_matrix[finance_matrix[\"willing_open_capital\"]==1]['finance_link'].value_counts()\n",
    "for x in range(0,5):\n",
    "    try:\n",
    "        print(x, ' :' ,finance_matrix[x]*100/counter_matrix[x])\n",
    "    except:\n",
    "        print(x, ' : 0' )\n",
    "\n",
    "# finance_matrix = finance_matrix.apply(lambda x: x.name)\n",
    "# # rows={1: \"Percentage of woman who open their capital\", 0: \"Percentage of woman who did not open their capital\"}\n",
    "# # sexe_woman_matrix = sexe_woman_matrix.rename(rows, axis='index')\n",
    "# print(finance_matrix)\n",
    "# print(counter_matrix)"
   ]
  },
  {
   "cell_type": "markdown",
   "metadata": {},
   "source": [
    "<div class=\"alert alert-success\"><b>Conclusion:</b> Pas de lien reel entre le niveau de connaissance du secteur fi et la volonte d'ouvrir son capital</div>"
   ]
  },
  {
   "cell_type": "code",
   "execution_count": 229,
   "metadata": {},
   "outputs": [
    {
     "name": "stdout",
     "output_type": "stream",
     "text": [
      "Pourcentage d'ouverture du capital en fonction de la connaissance du secteur financier\n",
      "0  : 100.0\n",
      "1  : 50.0\n",
      "2  : 100.0\n",
      "3  : 100.0\n",
      "4  : 33.333333333333336\n"
     ]
    }
   ],
   "source": [
    "finance_matrix = filtered_data[['finance_link',\"willing_open_capital\"]]\n",
    "counter_matrix= finance_matrix.finance_link.value_counts()\n",
    "\n",
    "finance_matrix = finance_matrix[finance_matrix[\"willing_open_capital\"]==1]['finance_link'].value_counts()\n",
    "print(\"Pourcentage d'ouverture du capital en fonction de la connaissance du secteur financier\" )\n",
    "for x in range(0,5):\n",
    "    print(x, ' :' ,finance_matrix[x]*100/counter_matrix[x])"
   ]
  },
  {
   "cell_type": "code",
   "execution_count": 282,
   "metadata": {},
   "outputs": [
    {
     "data": {
      "text/plain": [
       "[<matplotlib.lines.Line2D at 0x11fba4a58>]"
      ]
     },
     "execution_count": 282,
     "metadata": {},
     "output_type": "execute_result"
    },
    {
     "data": {
      "image/png": "[encoded data removed]",
      "text/plain": [
       "<Figure size 432x288 with 1 Axes>"
      ]
     },
     "metadata": {
      "needs_background": "light"
     },
     "output_type": "display_data"
    }
   ],
   "source": [
    "age_matrix = filtered_data[['age',\"willing_open_capital\"]]\n",
    "age_matrix = age_matrix.set_index(age_matrix['age']).drop(['age'],axis=1)\n",
    "age_matrix.sort_index(inplace=True)\n",
    "plt.plot(age_matrix['willing_open_capital'],'ro')"
   ]
  },
  {
   "cell_type": "markdown",
   "metadata": {},
   "source": [
    "<div class=\"alert alert-success\"><b>Conclusion:</b> Pas de lien reel entre l'age et la volonte d'ouvrir son capital</div>"
   ]
  },
  {
   "cell_type": "code",
   "execution_count": 283,
   "metadata": {},
   "outputs": [
    {
     "name": "stdout",
     "output_type": "stream",
     "text": [
      "Niveau d'etude, en pourcentage\n",
      "3    85.714286\n",
      "2     7.142857\n",
      "0     7.142857\n",
      "Name: study_level, dtype: float64\n"
     ]
    }
   ],
   "source": [
    "study_level_matrix = filtered_data[\"study_level\"].value_counts()\n",
    "study_level_matrix = study_level_matrix.apply(lambda x: (x*100)/study_level_matrix.sum())\n",
    "print(\"Niveau d'etude, en pourcentage\")\n",
    "print(study_level_matrix)"
   ]
  },
  {
   "cell_type": "markdown",
   "metadata": {},
   "source": [
    "<div class=\"alert alert-success\"><b>Conclusion:</b> Comme precise avant, le niveaux d'etude des entrepreneurs interroge n'est pas assez disparate pour que cela puisse etre reellement signifactif (nous n'avons ici pu recolter que des entrepreuneurs ayant un bac+5 ou plus.</div>"
   ]
  },
  {
   "cell_type": "markdown",
   "metadata": {},
   "source": [
    "<p> Interessons nous maintenant a l'age, la maturite de l'entreprise. Nous voundrions donc savoir si le fait d'avoir une entreprise plus ancienne joue sur la volonte d'ouvrir (ou non), son capital. Pour cela, nous etudierons la volonte d'ouverture du capital, en fonction de l'age relatif de la startup (2018 - Annee de creation)</p> "
   ]
  },
  {
   "cell_type": "code",
   "execution_count": 159,
   "metadata": {},
   "outputs": [
    {
     "name": "stdout",
     "output_type": "stream",
     "text": [
      "Pourcentage d'ouverture du capital en fonction de l'age de l'entreprise\n",
      "2  : 75.0\n",
      "3  : 40.0\n",
      "4  : 33.333333333333336\n",
      "6  : 100.0\n",
      "14  : 100.0\n"
     ]
    },
    {
     "name": "stderr",
     "output_type": "stream",
     "text": [
      "/Library/Frameworks/Python.framework/Versions/3.7/lib/python3.7/site-packages/ipykernel_launcher.py:2: SettingWithCopyWarning: \n",
      "A value is trying to be set on a copy of a slice from a DataFrame.\n",
      "Try using .loc[row_indexer,col_indexer] = value instead\n",
      "\n",
      "See the caveats in the documentation: http://pandas.pydata.org/pandas-docs/stable/indexing.html#indexing-view-versus-copy\n",
      "  \n"
     ]
    }
   ],
   "source": [
    "comp_date_matrix = filtered_data[[\"Année de création\",\"Avez vous ouvert votre capital ?_Oui\"]]\n",
    "comp_date_matrix[\"Age_entreup\"] = comp_date_matrix[\"Année de création\"].apply(lambda x: 2019-x)\n",
    "comp_date_matrix = comp_date_matrix.drop(['Année de création'], axis=1)\n",
    "counter_matrix= comp_date_matrix.Age_entreup.value_counts()\n",
    "\n",
    "comp_date_matrix = comp_date_matrix[comp_date_matrix[\"Avez vous ouvert votre capital ?_Oui\"]==1]['Age_entreup'].value_counts()\n",
    "comp_date_matrix.sort_index(inplace=True)\n",
    "\n",
    "print(\"Pourcentage d'ouverture du capital en fonction de l'age de l'entreprise\" )\n",
    "for x in comp_date_matrix.index:\n",
    "    print(x, ' :' ,comp_date_matrix[x]*100/counter_matrix[x])"
   ]
  },
  {
   "cell_type": "markdown",
   "metadata": {},
   "source": [
    "<div class=\"alert alert-success\"><b>Conclusion:</b> On remarque alors que si les valeurs sont disparate pour les jeunes entreprise (moins de 5 ans), il y a un palier (5 ans donc) au delà duquel l’entrepreneur semble avoir totalement accepter l'idée d’ouvrir son capital. Cela est certainement dû à une nécessité pour l’entreprise, et l’entrepreneur semble avoir, au bout de certaines annees, compris qu’il doit ouvrir son capital pour pouvoir faire progresser l’entreprise.\n",
    "</div>"
   ]
  },
  {
   "cell_type": "code",
   "execution_count": 284,
   "metadata": {},
   "outputs": [
    {
     "name": "stdout",
     "output_type": "stream",
     "text": [
      "Pourcentage d'ouverture du capital en fonction du domaine d'etude de l'entrepreneur\n",
      "Science sociales/ Éco-gestion  : 62.5\n",
      "Ingénierie/ Science  : 50.0\n",
      "Médecine  : 100.0\n",
      "Droit ou sciences politiques  : 0\n"
     ]
    }
   ],
   "source": [
    "study_domain_matrix = data[[\"Domaine d'étude\",\"Avez vous ouvert votre capital ?\"]]\n",
    "counter_matrix= study_domain_matrix[\"Domaine d'étude\"].value_counts()\n",
    "\n",
    "study_domain_matrix = study_domain_matrix[study_domain_matrix[\"Avez vous ouvert votre capital ?\"]==\"Oui\"][\"Domaine d'étude\"].value_counts()\n",
    "study_domain_matrix.sort_index(inplace=True)\n",
    "\n",
    "print(\"Pourcentage d'ouverture du capital en fonction du domaine d'etude de l'entrepreneur\" )\n",
    "for x in counter_matrix.index:\n",
    "    try:\n",
    "        print(x, ' :' ,study_domain_matrix[x]*100/counter_matrix[x])\n",
    "    except:\n",
    "        print(x, ' : 0' )\n"
   ]
  },
  {
   "cell_type": "markdown",
   "metadata": {},
   "source": [
    "<div class=\"alert alert-success\"><b>Conclusion:</b> On ne peut pas tirer de reelles conclusions sur ce parametre et son lien sur la volonte (ou non) d'ouvrir son capital.\n",
    "</div>"
   ]
  },
  {
   "cell_type": "code",
   "execution_count": 172,
   "metadata": {},
   "outputs": [
    {
     "name": "stdout",
     "output_type": "stream",
     "text": [
      "Pourcentage d'ouverture du capital en fonction du domaine de l'entreprise\n",
      "Services aux entreprises  : 60.0\n",
      "Informatique / Télécoms  : 50.0\n",
      "Commerce / Négoce / Distribution  : 100.0\n",
      "Édition / Communication / Multimédia  : 0\n",
      "Machines et équipements / Automobile  : 100.0\n",
      "Électronique / Électricité  : 100.0\n",
      "Études et conseils  : 0\n",
      "Textile / Habillement / Chaussure  : 0\n"
     ]
    }
   ],
   "source": [
    "comp_domain_matrix = data[[\"Domaines\",\"Avez vous ouvert votre capital ?\"]]\n",
    "counter_matrix= comp_domain_matrix[\"Domaines\"].value_counts()\n",
    "\n",
    "comp_domain_matrix = comp_domain_matrix[comp_domain_matrix[\"Avez vous ouvert votre capital ?\"]==\"Oui\"][\"Domaines\"].value_counts()\n",
    "comp_domain_matrix.sort_index(inplace=True)\n",
    "\n",
    "print(\"Pourcentage d'ouverture du capital en fonction du domaine de l'entreprise\" )\n",
    "for x in counter_matrix.index:\n",
    "    try:\n",
    "        print(x, ' :' ,comp_domain_matrix[x]*100/counter_matrix[x])\n",
    "    except:\n",
    "        print(x, ' : 0' )\n"
   ]
  },
  {
   "cell_type": "markdown",
   "metadata": {},
   "source": [
    "<div class=\"alert alert-success\"><b>Conclusion:</b> Le domaine de l’entreprise influe sur la volonté d’ouvrir son capital. En effet, dans les domaines nécessitant un investissement financier principal important (Électronique, automobile, distribution) les entrepreneurs sont toujours volontaire pour ouvrir leur capital, certainement car il n’ont pas d’autre solution pour parvenir au financement nécessaire.\n",
    "</div>"
   ]
  },
  {
   "cell_type": "code",
   "execution_count": 176,
   "metadata": {},
   "outputs": [
    {
     "name": "stdout",
     "output_type": "stream",
     "text": [
      "Pourcentage d'ouverture du capital en fonction du domaine de l'entreprise\n",
      "0  : 100.0\n",
      "2  : 33.333333333333336\n",
      "3  : 33.333333333333336\n",
      "4  : 100.0\n",
      "5  : 100.0\n",
      "6  : 100.0\n",
      "7  : 100.0\n",
      "8  : 0\n",
      "15  : 0\n",
      "20  : 100.0\n"
     ]
    }
   ],
   "source": [
    "comp_employ_matrix = data[[\"Nombre d'employés \",\"Avez vous ouvert votre capital ?\"]]\n",
    "counter_matrix= comp_employ_matrix[\"Nombre d'employés \"].value_counts()\n",
    "comp_employ_matrix = comp_employ_matrix[comp_employ_matrix[\"Avez vous ouvert votre capital ?\"]==\"Oui\"][\"Nombre d'employés \"].value_counts()\n",
    "counter_matrix.sort_index(inplace=True)\n",
    "\n",
    "print(\"Pourcentage d'ouverture du capital en fonction du nombre d'employes de l'entreprise\" )\n",
    "for x in counter_matrix.index:\n",
    "    try:\n",
    "        print(x, ' :' ,comp_employ_matrix[x]*100/counter_matrix[x])\n",
    "    except:\n",
    "        print(x, ' : 0' )"
   ]
  },
  {
   "cell_type": "code",
   "execution_count": 185,
   "metadata": {},
   "outputs": [
    {
     "name": "stdout",
     "output_type": "stream",
     "text": [
      "Pourcentage des raisons d'ouverture du capital\n",
      "Besoin de fond pour croître  : 42.857142857142854\n",
      "Besoin de fond pour croître, Besoin de fonds pour prototypage  : 21.428571428571427\n",
      "Besoin de fonds pour prototypage  : 21.428571428571427\n",
      "Pas de nécessité pour l’entreprise  : 14.285714285714286\n"
     ]
    }
   ],
   "source": [
    "reason_matrix = data[\"Pour quelle raisons avez vous (ou n'avez vous pas) ouvert votre capital\"].value_counts()\n",
    "# print(reason_matrix[\"Pour quelle raisons avez vous (ou n'avez vous pas) ouvert votre capital\"])\n",
    "# reason_matrix.sort_index(inplace=True)\n",
    "\n",
    "print(\"Pourcentage des raisons d'ouverture ou non du capital\" )\n",
    "for x in reason_matrix.index:\n",
    "    try:\n",
    "        print(x, ' :' ,reason_matrix[x]*100/reason_matrix.sum())\n",
    "    except:\n",
    "        print(x, ' : 0' )"
   ]
  },
  {
   "cell_type": "markdown",
   "metadata": {},
   "source": [
    "<p>Etude de l'effet escompte</p>"
   ]
  },
  {
   "cell_type": "code",
   "execution_count": 195,
   "metadata": {},
   "outputs": [
    {
     "name": "stdout",
     "output_type": "stream",
     "text": [
      "3.0     14%\n",
      "5.0     28%\n",
      "6.0     14%\n",
      "7.0     14%\n",
      "8.0     14%\n",
      "10.0    14%\n",
      "Name: Sur une échelle de 0 à 5, l'entrée des investisseur vous a t-elle apporte les effets escomptes ?, dtype: object\n"
     ]
    }
   ],
   "source": [
    "effect_matrix = data[\"Sur une échelle de 0 à 10, l'entrée des investisseur vous a t-elle apporte les effets escomptes ?\"].value_counts()\n",
    "effect_matrix.sort_index(inplace=True)\n",
    "\n",
    "effect_matrix = effect_matrix.apply(lambda x: x*100/effect_matrix.sum()).apply(lambda x: str(int(x))+'%')\n",
    "#     try:\n",
    "#         print(x, ' :' ,effect_matrix[x]*100/effect_matrix.sum())\n",
    "#     except:\n",
    "#         print(x, ' : 0' )\n",
    "print(effect_matrix)"
   ]
  },
  {
   "cell_type": "code",
   "execution_count": null,
   "metadata": {},
   "outputs": [],
   "source": []
  }
 ],
 "metadata": {
  "kernelspec": {
   "display_name": "Python 3",
   "language": "python",
   "name": "python3"
  },
  "language_info": {
   "codemirror_mode": {
    "name": "ipython",
    "version": 3
   },
   "file_extension": ".py",
   "mimetype": "text/x-python",
   "name": "python",
   "nbconvert_exporter": "python",
   "pygments_lexer": "ipython3",
   "version": "3.7.1"
  }
 },
 "nbformat": 4,
 "nbformat_minor": 2
}
